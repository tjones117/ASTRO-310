{
 "cells": [
  {
   "cell_type": "code",
   "execution_count": 30,
   "metadata": {
    "collapsed": true
   },
   "outputs": [],
   "source": [
    "%matplotlib inline\n",
    "\n",
    "import matplotlib.pyplot as plt\n",
    "import numpy as np\n",
    "import math\n",
    "from astro310 import *\n",
    "\n",
    "#plot_defaults()"
   ]
  },
  {
   "cell_type": "code",
   "execution_count": 31,
   "metadata": {
    "collapsed": true
   },
   "outputs": [],
   "source": [
    "LSUN = 3.83E26\n",
    "RSUN = 6.96E8\n",
    "MSUN = 1.99E30\n",
    "\n",
    "G = 6.67E-11\n",
    "SIGMA = 5.67E-8"
   ]
  },
  {
   "cell_type": "code",
   "execution_count": 32,
   "metadata": {},
   "outputs": [],
   "source": [
    "starH = read_history('ezweb_10Msun.zip')\n",
    "starP = read_profile('ezweb_10Msun.zip', 1)"
   ]
  },
  {
   "cell_type": "code",
   "execution_count": 33,
   "metadata": {},
   "outputs": [
    {
     "name": "stdout",
     "output_type": "stream",
     "text": [
      "Help on function read_history in module astro310:\n",
      "\n",
      "read_history(filename)\n",
      "    Read history data from an EZ-Web output zip file\n",
      "    \n",
      "    Parameters\n",
      "    ----------\n",
      "    \n",
      "    filename : string giving name of zip file\n",
      "    \n",
      "    Returns\n",
      "    -------\n",
      "    \n",
      "    data: dictionary containing the history data. The following keys/values \n",
      "          appear in the dictionary:\n",
      "    \n",
      "        i         step index (gives index of corresponding profile)\n",
      "        t         age (years)\n",
      "        M         mass (Msun)\n",
      "        log_L     log10(luminosity / Lsun)\n",
      "        log_R     lop10(radius / Rsun)\n",
      "        logT_s    log10(surface temperature / K)\n",
      "        log_T_c   log10(central temprature / K)\n",
      "        log_rho_c log10(central density / kg/m^3)\n",
      "        log_P_c   log10(central pressure / N/m^2)\n",
      "        Psi_c     central electron degeneracy parameter\n",
      "        X_c       central hydrogen mass fraction\n",
      "        Y_c       central helium mass fraction\n",
      "        X_Cc      central carbon mass fraction\n",
      "        X_Nc      central nitrogen mass fraction\n",
      "        X_Oc      central oxgyen mass fraction\n",
      "        tau_dyn   dynamical timescale (s)\n",
      "        tau_KH    Kelvin-Helmholtz timescale (years)\n",
      "        tau_nuc   nuclear timescale (years)\n",
      "        L_PP      luminosity from PP chain (Lsun)\n",
      "        L_CNO     luminosity from CNO cycle (Lsun)\n",
      "        L_3a      luminosity from triple-alpha reactions (Lsun)\n",
      "        L_Z       luminosity from metal burning (Lsun)\n",
      "        L_nu      luminosity from neutrino losses (Lsun)\n",
      "        M_He      mass of helium core (Msun)\n",
      "        M_C       mass of carbon core (Msun)\n",
      "        M_O       mass of oxygen core (Msun)\n",
      "        R_He      radius of helium core (Rsun)\n",
      "        R_C       radius of carbon core (Rsun)\n",
      "        R_O       radius of oxygen core (Rsun)\n",
      "\n",
      "Help on function read_profile in module astro310:\n",
      "\n",
      "read_profile(filename, index)\n",
      "    Read profile data from an EZ-Web output zip file\n",
      "    \n",
      "    Parameters\n",
      "    ----------\n",
      "    \n",
      "    filename : string giving name of zip file\n",
      "    index    : integer step index\n",
      "    \n",
      "    Returns\n",
      "    -------\n",
      "    \n",
      "    data: dictionary containing the profile data. The following keys/values \n",
      "          appear in the dictionary:\n",
      "    \n",
      "        m         mass coordinate (Msun)\n",
      "        r         radius coordinate (Rsun)\n",
      "        F         interior luminosity (Lsun)\n",
      "        P         pressure (N/m^2)\n",
      "        rho       density (kg/m^3)\n",
      "        T         temperature (K)\n",
      "        u         specific internal energy (J/kg)\n",
      "        s         specific entropy (J/K/kg)\n",
      "        c_P       specific heat at constant pressure (J/K/kg)\n",
      "        gamma_ad  adiabatic exponent\n",
      "        nabla_ad  adiabatic temperature gradient\n",
      "        mu        mean molecular weight\n",
      "        n_e       electron number density (/m^3)\n",
      "        P_e       electron partial pressure (N/m^2)\n",
      "        P_rad     radiation partial pressure (N/m^2)\n",
      "        nabla_rad radiative temperature gradient\n",
      "        nabla     material temperature gradient\n",
      "        v_c       convective velocity (m/s)\n",
      "        kappa     Rosseland mean opacity (m^2/kg)\n",
      "        q_nuc     specific nuclear energy release rate (J/s/kg)\n",
      "        q_PP      specific nuclear energy release rate from PP chain (J/s/kg)\n",
      "        q_CNO     specific nuclear energy release rate from CNO cycle (J/s/kg)\n",
      "        q_3a      specific nuclear energy release rate from triple-alpha reactions (J/s/kg)\n",
      "        q_nunuc   specific nuclear neutrino energy loss rate (J/s/kg)\n",
      "        q_nu      specific non-nuclear neutrino energy loss rate (J/s/kg)\n",
      "        q_grav    specific energy release rate from gravitational contraction (J/s/kg)\n",
      "        X         hydrogen mass fraction (all ionization stages)\n",
      "        X_mol     molecular hydrogen mass fraction\n",
      "        X_+       singly-ionized hydrogen mass fraction\n",
      "        Y         helium mass fraction (all ionization stages)\n",
      "        Y_+       singly-ionized helium mass fraction\n",
      "        Y_++      doubly-ionized helium mass fraction\n",
      "        X_C       carbon mass fraction\n",
      "        X_N       nitrogen mass fraction\n",
      "        X_O       oxygen mass fraction\n",
      "        Psi       electron degeneracy parameter\n",
      "\n"
     ]
    }
   ],
   "source": [
    "help(read_history)\n",
    "help(read_profile)"
   ]
  },
  {
   "cell_type": "code",
   "execution_count": 34,
   "metadata": {},
   "outputs": [
    {
     "name": "stdout",
     "output_type": "stream",
     "text": [
      "80\n"
     ]
    }
   ],
   "source": [
    "#Determining step # where ~25% of hydrogen remains\n",
    "\n",
    "hydrogen_mf = starH['X_c']\n",
    "\n",
    "step = 0\n",
    "for i in range(100):\n",
    "    if hydrogen_mf[i] < 0.25:\n",
    "        step = i\n",
    "        break\n",
    "    else:\n",
    "        step = i\n",
    "        \n",
    "print(step)"
   ]
  },
  {
   "cell_type": "code",
   "execution_count": 64,
   "metadata": {},
   "outputs": [
    {
     "name": "stdout",
     "output_type": "stream",
     "text": [
      "-1.45968369983e-16\n",
      "-1.60541945528e-16 2.90472928595e+15\n"
     ]
    }
   ],
   "source": [
    "#Demonstrating that the star is in hydrostatic equilibrium during this step number\n",
    "#dP/dm = -Gm/4pir^4 \n",
    "\n",
    "mass = starP['m']*MSUN\n",
    "radius = starP['r']*RSUN\n",
    "P = starP['P']\n",
    "nu, c = np.polyfit(mass, P, 1) #fits the curve for dP/dm\n",
    "\n",
    "G_pressure = (-G*mass[80])/(4*math.pi*(radius[80]**4))\n",
    "\n",
    "print(G_pressure)\n",
    "print(nu, c)"
   ]
  },
  {
   "cell_type": "code",
   "execution_count": 43,
   "metadata": {},
   "outputs": [],
   "source": [
    "#The value of G_pressure and nu are almost equal, implying that the system is in hydrostatic equilibrium"
   ]
  },
  {
   "cell_type": "code",
   "execution_count": null,
   "metadata": {
    "collapsed": true
   },
   "outputs": [],
   "source": []
  },
  {
   "cell_type": "code",
   "execution_count": 76,
   "metadata": {
    "collapsed": true
   },
   "outputs": [],
   "source": [
    "data = np.genfromtxt('adopt2.csv', skip_header=1, delimiter=',')"
   ]
  },
  {
   "cell_type": "code",
   "execution_count": 110,
   "metadata": {},
   "outputs": [],
   "source": [
    "#The degree of ionization is x = n+ / n0 + n+ where n+ = ne\n",
    "#n+ * ne / n0 = n+^2 / n0 = g/h^3 * (2pimekT)^(3/2) * e^(-X/kT)\n",
    "e = 2.718\n",
    "n_o = 1e20\n",
    "g = 1\n",
    "h = 6.63e-34\n",
    "k = 1.38e-23\n",
    "m_e = 9.11e-31\n",
    "X = 2.17896e-18 #converted to Joules\n",
    "T = data[:,5]\n",
    "n_plus = []\n",
    "\n",
    "for i in range(32):\n",
    "    n_plus.append((((g*n_o)/(h**3)) * (2*math.pi*m_e*k*T[i])**(3/2) * e**(-X/(k*T[i])))**(1/2))\n",
    "    \n",
    "x = []\n",
    "\n",
    "for i in range(32):\n",
    "    x.append(n_plus[i] / (n_plus[i] + n_o))"
   ]
  },
  {
   "cell_type": "code",
   "execution_count": 122,
   "metadata": {},
   "outputs": [
    {
     "data": {
      "image/png": "[encoded data removed]",
      "text/plain": [
       "<matplotlib.figure.Figure at 0x26274fa9128>"
      ]
     },
     "metadata": {},
     "output_type": "display_data"
    }
   ],
   "source": [
    "plt.scatter(data[:,2]*MSUN, x)\n",
    "#plt.yscale('log')\n",
    "plt.xscale('log')\n",
    "plt.xlim(1e29, 2e32)\n",
    "plt.ylim(0, 1.2)\n",
    "plt.xlabel(r'$log M$')\n",
    "plt.ylabel(r'$x$')\n",
    "plt.title(r'Mass vs Degree of Ionization')\n",
    "plt.savefig('mass_vs_ionization.pdf')"
   ]
  },
  {
   "cell_type": "code",
   "execution_count": null,
   "metadata": {
    "collapsed": true
   },
   "outputs": [],
   "source": [
    "#Neutral hydrogen begins to disappear from the photosphere around a mass of ~10^31 where x~1"
   ]
  },
  {
   "cell_type": "code",
   "execution_count": null,
   "metadata": {
    "collapsed": true
   },
   "outputs": [],
   "source": []
  },
  {
   "cell_type": "code",
   "execution_count": null,
   "metadata": {
    "collapsed": true
   },
   "outputs": [],
   "source": [
    "#A version of the CNO cycle involving O, F, and Ne as catlysts to turn H in to He would look like the following:\n",
    "\n",
    "#16O + H > gamma + 17F\n",
    "#17F > e+ + nutrino + 17O\n",
    "#17O + H > gamma + 18F\n",
    "#18F + H > gamma + 19Ne\n",
    "#19Ne > He + 17O\n",
    "#17O > e+ + nutrino + 16O"
   ]
  },
  {
   "cell_type": "code",
   "execution_count": null,
   "metadata": {
    "collapsed": true
   },
   "outputs": [],
   "source": []
  },
  {
   "cell_type": "code",
   "execution_count": 60,
   "metadata": {},
   "outputs": [
    {
     "name": "stdout",
     "output_type": "stream",
     "text": [
      "0.457946721791957\n",
      "0.8365116420730186\n"
     ]
    }
   ],
   "source": [
    "#L=M^(3-5)\n",
    "#R=M^~0.8\n",
    "Mnew = 0.8 #in units of Msun\n",
    "Lnew = Mnew**3.5\n",
    "Rnew = Mnew**0.8 #in units of Rsun\n",
    "\n",
    "print(Lnew)\n",
    "print(Rnew)"
   ]
  },
  {
   "cell_type": "code",
   "execution_count": 61,
   "metadata": {},
   "outputs": [
    {
     "name": "stdout",
     "output_type": "stream",
     "text": [
      "17469281074.217106\n"
     ]
    }
   ],
   "source": [
    "#t~M/L*expected lifetime of the sun (10 million), represented is the amount of \"fuel\" divided by the rate of use of \"fuel\"\n",
    "t = (Mnew/Lnew)*10e9\n",
    "\n",
    "print(t) #Presents expected lifetime of 0.8Msun star in years"
   ]
  },
  {
   "cell_type": "code",
   "execution_count": 65,
   "metadata": {},
   "outputs": [
    {
     "name": "stdout",
     "output_type": "stream",
     "text": [
      "5191.162056306777\n",
      "5.7790528738267376e-05\n"
     ]
    }
   ],
   "source": [
    "#sigma*Teff^4 = L/4piR^2\n",
    "Teff = ((Lnew*LSUN) / (4*math.pi*((Rnew*RSUN)**2)*SIGMA))**(1/4)\n",
    "\n",
    "print(Teff) #In K\n",
    "\n",
    "#Teff~0.3cm/lambda max\n",
    "\n",
    "L_max = 0.3/Teff\n",
    "\n",
    "print(L_max)"
   ]
  },
  {
   "cell_type": "code",
   "execution_count": 66,
   "metadata": {
    "collapsed": true
   },
   "outputs": [],
   "source": [
    "#Evaluating the value of L_max and converting to nm, the wavelength ends up being located in the middle of the yellow part of the\n",
    "#visable spectrum"
   ]
  },
  {
   "cell_type": "code",
   "execution_count": 72,
   "metadata": {},
   "outputs": [
    {
     "name": "stdout",
     "output_type": "stream",
     "text": [
      "6.61642973550001e+18\n",
      "1.5113891327743827e-19\n"
     ]
    }
   ],
   "source": [
    "Iobs = 3e-14\n",
    "#L=4pi d^2 Iobs\n",
    "d = ((Lnew*LSUN)/(4*math.pi*Iobs))**(1/2)\n",
    "#d = 1/p\n",
    "p = 1/(d/3.26)\n",
    "\n",
    "print(d/3.26) #in pc\n",
    "print(p) #in arcsec"
   ]
  },
  {
   "cell_type": "code",
   "execution_count": null,
   "metadata": {
    "collapsed": true
   },
   "outputs": [],
   "source": [
    "#After reserching the GAIA mission, it seems that the spacecraft can observe parallax at the smallest amount of about\n",
    "#6.7e-6 arcsec, which is far larger than that calculated above. This means the the GAIA mission would not be able to observe\n",
    "#our star here. "
   ]
  }
 ],
 "metadata": {
  "kernelspec": {
   "display_name": "Python 3",
   "language": "python",
   "name": "python3"
  },
  "language_info": {
   "codemirror_mode": {
    "name": "ipython",
    "version": 3
   },
   "file_extension": ".py",
   "mimetype": "text/x-python",
   "name": "python",
   "nbconvert_exporter": "python",
   "pygments_lexer": "ipython3",
   "version": "3.6.1"
  }
 },
 "nbformat": 4,
 "nbformat_minor": 2
}
