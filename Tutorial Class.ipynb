{
 "cells": [
  {
   "cell_type": "code",
   "execution_count": 1,
   "metadata": {
    "collapsed": true
   },
   "outputs": [],
   "source": [
    "import numpy as np\n",
    "import matplotlib.pyplot as plt\n",
    "%matplotlib inline\n",
    "\n",
    "from astro310 import *"
   ]
  },
  {
   "cell_type": "code",
   "execution_count": 2,
   "metadata": {},
   "outputs": [
    {
     "name": "stdout",
     "output_type": "stream",
     "text": [
      "<class 'int'>\n",
      "<class 'float'>\n"
     ]
    }
   ],
   "source": [
    "x = 5\n",
    "print(type (x))\n",
    "\n",
    "x = 5.\n",
    "print(type(x))"
   ]
  },
  {
   "cell_type": "code",
   "execution_count": 3,
   "metadata": {},
   "outputs": [
    {
     "name": "stdout",
     "output_type": "stream",
     "text": [
      "5\n",
      "5.0\n",
      "5.0\n"
     ]
    }
   ],
   "source": [
    "print(2+3)\n",
    "print(2.+3.)\n",
    "print(2.+3)"
   ]
  },
  {
   "cell_type": "code",
   "execution_count": 4,
   "metadata": {},
   "outputs": [
    {
     "name": "stdout",
     "output_type": "stream",
     "text": [
      "0.8333333333333334\n",
      "0\n"
     ]
    }
   ],
   "source": [
    "print(5/6) \n",
    "print(5//6) #one refers to an integer, one to a float"
   ]
  },
  {
   "cell_type": "code",
   "execution_count": 5,
   "metadata": {},
   "outputs": [
    {
     "name": "stdout",
     "output_type": "stream",
     "text": [
      "22026.4657948\n",
      "2.30258509299\n",
      "1.0\n",
      "nan\n"
     ]
    },
    {
     "name": "stderr",
     "output_type": "stream",
     "text": [
      "C:\\Users\\novac\\Anaconda3\\lib\\site-packages\\ipykernel_launcher.py:4: RuntimeWarning: invalid value encountered in sqrt\n",
      "  after removing the cwd from sys.path.\n"
     ]
    }
   ],
   "source": [
    "print(np.exp(10))\n",
    "print(np.log(10))\n",
    "print(np.log10(10))\n",
    "print(np.sqrt(-1)) #nan - not a number"
   ]
  },
  {
   "cell_type": "code",
   "execution_count": 6,
   "metadata": {},
   "outputs": [
    {
     "name": "stdout",
     "output_type": "stream",
     "text": [
      "(-1+2j)\n",
      "<class 'complex'>\n",
      "1j\n"
     ]
    }
   ],
   "source": [
    "print(complex(-1,2))\n",
    "print(type(complex(-1)))\n",
    "print(np.sqrt(complex(-1)))"
   ]
  },
  {
   "cell_type": "code",
   "execution_count": 7,
   "metadata": {},
   "outputs": [
    {
     "name": "stdout",
     "output_type": "stream",
     "text": [
      "[0, 1, 2.0, 3.0, 'four', 'five']\n",
      "<class 'list'>\n",
      "6\n"
     ]
    }
   ],
   "source": [
    "myList = [0, 1, 2., 3., 'four', 'five']\n",
    "print(myList)\n",
    "print(type(myList))\n",
    "print(len(myList))"
   ]
  },
  {
   "cell_type": "code",
   "execution_count": 8,
   "metadata": {},
   "outputs": [
    {
     "name": "stdout",
     "output_type": "stream",
     "text": [
      "0\n",
      "five\n",
      "four\n",
      "[0, 1, 2.0, 3.0, 'four', 'five']\n",
      "[0, 1, 2.0, 3.0]\n",
      "[1, 2.0, 3.0]\n",
      "[1, 2.0, 3.0, 'four', 'five']\n"
     ]
    }
   ],
   "source": [
    "print(myList[0]) #print first element, or 0th index\n",
    "print(myList[-1]) #print last index\n",
    "print(myList[-2]) #print second to last index\n",
    "print(myList[:]) #print all indices\n",
    "print(myList[:4]) #print up to the 4th\n",
    "print(myList[1:4]) #print between and including thee 1st and the 4th\n",
    "print(myList[1:]) #print 1st and everything after"
   ]
  },
  {
   "cell_type": "code",
   "execution_count": 9,
   "metadata": {},
   "outputs": [
    {
     "name": "stdout",
     "output_type": "stream",
     "text": [
      "This is my string\n",
      "<class 'str'>\n",
      "17\n",
      "string\n"
     ]
    }
   ],
   "source": [
    "myString = 'This is my string'\n",
    "print(myString)\n",
    "print(type(myString))\n",
    "print(len(myString))\n",
    "print(myString[-6:]) #make sure to use brackets"
   ]
  },
  {
   "cell_type": "code",
   "execution_count": 10,
   "metadata": {},
   "outputs": [
    {
     "name": "stdout",
     "output_type": "stream",
     "text": [
      "This is string2\n"
     ]
    }
   ],
   "source": [
    "stringNumber = 2\n",
    "anotherString = 'This is ' + 'string' + str(stringNumber)\n",
    "print(anotherString)"
   ]
  },
  {
   "cell_type": "code",
   "execution_count": 11,
   "metadata": {},
   "outputs": [
    {
     "name": "stdout",
     "output_type": "stream",
     "text": [
      "[0 1 2 3 4 5]\n",
      "<class 'numpy.ndarray'>\n",
      "<class 'numpy.int32'>\n",
      "(6,)\n",
      "<class 'tuple'>\n"
     ]
    }
   ],
   "source": [
    "#Arrays only contain numerical values\n",
    "\n",
    "myArray = np.array((0, 1, 2, 3, 4, 5))\n",
    "print(myArray)\n",
    "print(type(myArray))\n",
    "print(type(myArray[0]))\n",
    "print(myArray.shape)\n",
    "print(type(myArray.shape))"
   ]
  },
  {
   "cell_type": "code",
   "execution_count": 12,
   "metadata": {},
   "outputs": [
    {
     "name": "stdout",
     "output_type": "stream",
     "text": [
      "[ 0.  1.  2.  3.  4.  5.]\n",
      "<class 'numpy.ndarray'>\n",
      "<class 'numpy.float64'>\n"
     ]
    }
   ],
   "source": [
    "myArray = np.array((0, 1, 2, 3, 4, 5.))\n",
    "print(myArray)\n",
    "print(type(myArray))\n",
    "print(type(myArray[0]))"
   ]
  },
  {
   "cell_type": "code",
   "execution_count": 13,
   "metadata": {},
   "outputs": [
    {
     "name": "stdout",
     "output_type": "stream",
     "text": [
      "{'width': 8.5, 'height': 11, 'shape': 'rectangle'}\n",
      "<class 'dict'>\n",
      "A standard piece of paper is  8.5 x 11 inches\n",
      "dict_keys(['width', 'height', 'shape']) dict_values([8.5, 11, 'rectangle'])\n"
     ]
    }
   ],
   "source": [
    "paper = {'width': 8.5, 'height': 11, 'shape': 'rectangle'}\n",
    "print(paper)\n",
    "print(type(paper))\n",
    "print('A standard piece of paper is ', paper['width'], 'x', paper['height'], 'inches')\n",
    "print(paper.keys(), paper.values())"
   ]
  },
  {
   "cell_type": "code",
   "execution_count": 14,
   "metadata": {},
   "outputs": [
    {
     "name": "stdout",
     "output_type": "stream",
     "text": [
      "0\n",
      "1\n",
      "2\n",
      "3\n",
      "4\n"
     ]
    }
   ],
   "source": [
    "#loops\n",
    "for i in range (5): #stops at 5 and does not execute, range goes from (0,n-1)\n",
    "    print(i)"
   ]
  },
  {
   "cell_type": "code",
   "execution_count": 15,
   "metadata": {},
   "outputs": [
    {
     "name": "stdout",
     "output_type": "stream",
     "text": [
      "0 0\n",
      "1 1\n",
      "2 2.0\n",
      "3 3.0\n",
      "4 four\n",
      "5 five\n"
     ]
    }
   ],
   "source": [
    "for i in range(len(myList)):\n",
    "    print(i, myList[i])"
   ]
  },
  {
   "cell_type": "code",
   "execution_count": 16,
   "metadata": {
    "scrolled": true
   },
   "outputs": [
    {
     "name": "stdout",
     "output_type": "stream",
     "text": [
      "width 8.5\n",
      "height 11\n",
      "shape rectangle\n"
     ]
    }
   ],
   "source": [
    "#iteration through a dictionary\n",
    "for key, value in paper.items():\n",
    "    print(key, value)"
   ]
  },
  {
   "cell_type": "code",
   "execution_count": 17,
   "metadata": {
    "collapsed": true
   },
   "outputs": [],
   "source": [
    "LSUN = 3.83E26\n",
    "RSUN = 6.96E8\n",
    "MSUN = 1.99E30\n",
    "SIGMA = 5.67E-8"
   ]
  },
  {
   "cell_type": "code",
   "execution_count": 18,
   "metadata": {
    "collapsed": true
   },
   "outputs": [],
   "source": [
    "h = read_history('ezweb-1-Msun.zip')"
   ]
  },
  {
   "cell_type": "code",
   "execution_count": 19,
   "metadata": {
    "scrolled": true
   },
   "outputs": [
    {
     "name": "stdout",
     "output_type": "stream",
     "text": [
      "Help on function read_history in module astro310:\n",
      "\n",
      "read_history(filename)\n",
      "    Read history data from an EZ-Web output zip file\n",
      "    \n",
      "    Parameters\n",
      "    ----------\n",
      "    \n",
      "    filename : string giving name of zip file\n",
      "    \n",
      "    Returns\n",
      "    -------\n",
      "    \n",
      "    data: dictionary containing the history data. The following keys/values \n",
      "          appear in the dictionary:\n",
      "    \n",
      "        i         step index (gives index of corresponding profile)\n",
      "        t         age (years)\n",
      "        M         mass (Msun)\n",
      "        log_L     log10(luminosity / Lsun)\n",
      "        log_R     lop10(radius / Rsun)\n",
      "        logT_s    log10(surface temperature / K)\n",
      "        log_T_c   log10(central temprature / K)\n",
      "        log_rho_c log10(central density / kg/m^3)\n",
      "        log_P_c   log10(central pressure / N/m^2)\n",
      "        Psi_c     central electron degeneracy parameter\n",
      "        X_c       central hydrogen mass fraction\n",
      "        Y_c       central helium mass fraction\n",
      "        X_Cc      central carbon mass fraction\n",
      "        X_Nc      central nitrogen mass fraction\n",
      "        X_Oc      central oxgyen mass fraction\n",
      "        tau_dyn   dynamical timescale (s)\n",
      "        tau_KH    Kelvin-Helmholtz timescale (years)\n",
      "        tau_nuc   nuclear timescale (years)\n",
      "        L_PP      luminosity from PP chain (Lsun)\n",
      "        L_CNO     luminosity from CNO cycle (Lsun)\n",
      "        L_3a      luminosity from triple-alpha reactions (Lsun)\n",
      "        L_Z       luminosity from metal burning (Lsun)\n",
      "        L_nu      luminosity from neutrino losses (Lsun)\n",
      "        M_He      mass of helium core (Msun)\n",
      "        M_C       mass of carbon core (Msun)\n",
      "        M_O       mass of oxygen core (Msun)\n",
      "        R_He      radius of helium core (Rsun)\n",
      "        R_C       radius of carbon core (Rsun)\n",
      "        R_O       radius of oxygen core (Rsun)\n",
      "\n"
     ]
    }
   ],
   "source": [
    "help(read_history)"
   ]
  },
  {
   "cell_type": "code",
   "execution_count": 20,
   "metadata": {
    "collapsed": true
   },
   "outputs": [],
   "source": [
    "#10** exponentiates\n",
    "L = 10**h['log_L']*LSUN\n",
    "R = 10**h['log_R']*RSUN\n",
    "Teff = (L/(4*np.pi*R**2*SIGMA))**0.25"
   ]
  },
  {
   "cell_type": "code",
   "execution_count": 21,
   "metadata": {
    "collapsed": true
   },
   "outputs": [],
   "source": [
    "L_index = np.where(h['log_L'] > 0)\n",
    "today = np.where(h['log_L'] > 0)[0][0]"
   ]
  },
  {
   "cell_type": "code",
   "execution_count": 24,
   "metadata": {},
   "outputs": [
    {
     "name": "stdout",
     "output_type": "stream",
     "text": [
      "4560212280.0\n"
     ]
    },
    {
     "data": {
      "image/png": "[encoded data removed]",
      "text/plain": [
       "<matplotlib.figure.Figure at 0x23347bb8550>"
      ]
     },
     "metadata": {},
     "output_type": "display_data"
    }
   ],
   "source": [
    "#plot_defaults() is a function in module astro310\n",
    "\n",
    "#plot_defaults()\n",
    "plt.plot(Teff, L/LSUN)\n",
    "#plt.plot(Teff[today], L[today]/LSUN, marker='o', markersize=10)\n",
    "plt.yscale('log')\n",
    "plt.xlim(7000,2000)\n",
    "plt.ylim(0.1,1e4)\n",
    "plt.xlabel('Teff (K)')\n",
    "plt.ylabel(r'$L/L_{\\odot}$')\n",
    "plt.title(r'HR Diagram for a 1 $M_{\\odot}$ star')\n",
    "plt.savefig('HR_1Msun.pdf')\n",
    "print(h['t'][today])"
   ]
  },
  {
   "cell_type": "code",
   "execution_count": 23,
   "metadata": {},
   "outputs": [
    {
     "name": "stdout",
     "output_type": "stream",
     "text": [
      "[ 5610.49731749  5596.44207343  5596.47463007  5596.50226301  5596.51765393\n",
      "  5596.52609456  5596.53178974  5596.53677811  5596.5426099   5596.55243265\n",
      "  5596.56971932  5596.5988843   5596.60565044  5596.6097935   5596.58985142\n",
      "  5596.55211113  5596.50800069  5596.47757332  5596.493363    5596.61897075\n",
      "  5596.94256944  5597.53070046  5598.41454559  5599.57966102  5600.98294841\n",
      "  5602.59620239  5604.41557728  5606.46351248  5608.75092814  5611.27398736\n",
      "  5614.6031742   5618.25208789  5621.79495848  5624.93831721  5627.61217723\n",
      "  5629.93982359  5632.06277304  5634.10058988  5636.15397757  5638.30562114\n",
      "  5640.62508554  5643.17556863  5646.01301207  5649.1972972   5652.78382715\n",
      "  5656.82507723  5661.34846089  5666.51384749  5675.24856057  5683.82782846\n",
      "  5691.22829088  5697.49870786  5702.98448594  5709.85298774  5717.37769527\n",
      "  5723.87463549  5729.54715962  5734.48910932  5738.6778877   5745.5612582\n",
      "  5751.52645704  5756.62015994  5760.99539242  5764.64768946  5767.92968894\n",
      "  5773.57128241  5778.23294327  5782.08989328  5785.24887794  5787.7019257\n",
      "  5789.43972558  5793.70210603  5797.21220991  5799.95514135  5802.02467445\n",
      "  5803.4250913   5804.15210992  5805.53661697  5808.0633317   5809.82948684\n",
      "  5810.90786108  5811.33016841  5811.09531978  5810.21090754  5809.60222982\n",
      "  5810.42018758  5810.60838548  5810.25470793  5809.44806075  5808.26661872\n",
      "  5806.78644688  5805.06497339  5804.63357392  5805.07887407  5805.20147997\n",
      "  5805.02196634  5804.55079227  5803.79091     5802.75007962  5801.43088618\n",
      "  5799.83794336  5797.97556135  5797.46493764  5797.0419083   5796.28657921\n",
      "  5795.21140673  5793.82814937  5792.14693648  5790.18159399  5787.93996069\n",
      "  5785.4322039   5782.67047413  5779.66426558  5776.42287574  5772.95725987\n",
      "  5770.07581063  5767.64572855  5764.96453525  5762.0290627   5758.84967236\n",
      "  5755.44408725  5751.81575031  5747.98241693  5743.95088493  5739.73119972\n",
      "  5735.33104357  5730.76355689  5726.03286631  5721.15140944  5716.13059841\n",
      "  5710.97415747  5705.6996493   5700.29945244  5694.79228764  5689.17503291\n",
      "  5683.45561488  5677.64078823  5671.73184693  5665.73348397  5659.65558435\n",
      "  5653.48790924  5647.25740365  5641.21639546  5635.03216303  5628.73693873\n",
      "  5622.31422195  5615.78019241  5609.13407363  5602.37017035  5595.49351778\n",
      "  5588.50557108  5581.40401183  5574.18153029  5566.85119086  5559.56187686\n",
      "  5552.33295219  5545.02210082  5537.6297956   5530.15309649  5522.60167402\n",
      "  5514.96202681  5507.23129072  5499.41109744  5491.5023901   5483.49272922\n",
      "  5475.38776534  5467.17913747  5458.87009759  5450.44130885  5441.88756679\n",
      "  5433.20865643  5424.41008159  5415.47988385  5406.40355756  5397.18184678\n",
      "  5387.80235415  5378.25991411  5368.55668996  5358.67807275  5349.91166162\n",
      "  5341.04886354  5332.03638067  5322.87824416  5313.57381045  5304.12051302\n",
      "  5294.51270999  5284.73981833  5274.83001135  5264.72498759  5254.42516966\n",
      "  5244.59965388  5235.53968016  5226.2339757   5216.78375673  5207.17641178\n",
      "  5197.41087686  5187.54700529  5177.47501103  5167.22010363  5158.07266719\n",
      "  5149.01677783  5139.80241324  5130.45811291  5121.08166441  5111.52614435\n",
      "  5101.7971072   5092.9819935   5084.43011889  5075.74791281  5067.05880206\n",
      "  5058.28632156  5049.32998175  5041.07175727  5033.22896802  5025.2741253\n",
      "  5017.51902009  5009.49624273  5001.61230688  4994.61828151  4987.50210749\n",
      "  4980.71621737  4973.58507615  4966.75803984  4960.54405462  4954.72839329\n",
      "  4948.57585109  4942.32912403  4936.90364397  4932.01290122  4926.83111722\n",
      "  4921.50228079  4916.74370543  4912.80423735  4908.36491329  4903.80194388\n",
      "  4899.7715954   4896.6956704   4892.85880906  4889.00076769  4885.79307319\n",
      "  4883.26088677  4879.91906564  4876.73230085  4874.87311785  4872.01615797\n",
      "  4869.04967368  4866.48081893  4865.04573665  4862.43842482  4859.86388768\n",
      "  4858.81116982  4856.47150579  4853.98203299  4851.65360906  4850.8712395\n",
      "  4848.56590496  4847.33278497  4846.16854842  4845.03466827  4844.37550168\n",
      "  4834.41966925  4831.27492916  4829.52813514  4827.46775623  4826.2976641\n",
      "  4825.17872976  4824.0321521   4824.58702141  4823.71032983  4822.27501874\n",
      "  4820.48194941  4818.25286661  4815.73984168  4814.4094844   4814.9880538\n",
      "  4814.47571847  4813.8320209   4813.30333914  4813.93588151  4813.69233633\n",
      "  4812.79543851  4811.5888876   4810.10650903  4808.27693883  4806.01449113\n",
      "  4803.23430086  4800.16049286  4798.56245538  4797.7523293   4796.96718937\n",
      "  4796.16884553  4796.46766117  4796.45663072  4795.67682652  4794.47290848\n",
      "  4792.96237154  4791.09944175  4788.79768675  4785.94025099  4782.3579074\n",
      "  4778.51409599  4774.50803949  4770.34704379  4766.05144638  4761.61847357\n",
      "  4757.06544194  4754.76595272  4752.47139686  4750.18081945  4749.37999882\n",
      "  4744.57901006  4741.05188819  4737.21187153  4732.45313582  4727.18409722\n",
      "  4721.75334285  4716.16415318  4710.42815261  4704.55844815  4698.56436916\n",
      "  4692.44950004  4686.23990582  4679.94057972  4673.53675406  4667.05618207\n",
      "  4660.50684273  4653.91985408  4647.32687297  4640.80802506  4634.39718782\n",
      "  4628.15575261  4622.16456669  4616.51397366  4611.26547783  4606.44184784\n",
      "  4601.9895426   4597.681244    4593.23272093  4588.37575685  4582.94833101\n",
      "  4576.8861602   4570.20411966  4562.97862087  4555.25640515  4547.01335173\n",
      "  4538.4209148   4529.4716261   4520.24205953  4510.78080783  4501.15086018\n",
      "  4491.37196133  4481.42103117  4471.32319908  4461.08859252  4450.7303485\n",
      "  4440.23982722  4429.67642018  4418.96936175  4408.15711771  4397.21340199\n",
      "  4386.15586395  4374.98905079  4363.73112139  4352.41091202  4340.9545418\n",
      "  4329.40371486  4317.76135984  4305.90201651  4294.00759205  4282.06132758\n",
      "  4270.05029543  4257.92252977  4245.71631801  4233.43362985  4221.08354526\n",
      "  4208.7034695   4196.24568777  4183.72613411  4171.12891867  4158.47026534\n",
      "  4145.75895934  4133.03369052  4120.2965342   4107.4844026   4094.5224622\n",
      "  4081.56467871  4068.56696     4055.56720917  4042.56380244  4029.52076342\n",
      "  4016.43259556  4003.32024631  3990.18769915  3977.07206441  3963.95107394\n",
      "  3950.78915507  3937.60855984  3924.39892394  3911.17270062  3897.96731304\n",
      "  3884.67240406  3871.36509859  3858.03801792  3844.71188729  3831.36277572\n",
      "  3818.05098004  3804.7346227   3791.39264244  3778.03668345  3764.67329178\n",
      "  3751.31881639  3738.01732963  3724.67224691  3711.33733447  3697.99768934\n",
      "  3684.65718494  3671.32110133  3658.0029212   3644.67728798  3631.36846616\n",
      "  3618.08166674  3604.82847929  3591.64744982  3578.48023614  3565.33596795\n",
      "  3552.21861209  3539.1375986   3526.13733408  3513.17473173  3500.22039053\n",
      "  3487.29833917  3474.39123273  3461.52297085  3448.69599715  3435.83767826\n",
      "  3422.96887764  3410.1074064   3397.26535665  3384.47040213  3371.64776691\n",
      "  3358.84033995  3346.00650127  3333.15943649  3320.34164827  3307.50384673\n",
      "  3294.62383079  3281.71175706  3268.76544266  3255.80094928  3242.80936052\n",
      "  3229.74320318  3216.55450851  3203.20313213  3189.71837659  3176.1234219\n",
      "  3162.43119583  3148.61645261  3134.76174308  3120.98436461  3107.51626503\n",
      "  3101.4504383   3095.50675067  3092.57772146  3089.7488407   3088.36025998\n",
      "  3087.02248632  3085.74925604  3084.59127245  3083.96475054  3083.67654847\n",
      "  3083.42034018  3083.21544567  3083.1337863   3083.07443774  3083.05626425\n",
      "  3083.06540423  3083.09014441  3083.14693755  3083.19164514  3083.24899036\n",
      "  3083.33260519  3083.38729061  3083.45504083  3083.54372008  3083.66721142\n",
      "  3083.76132874  3083.88752714  3084.09093952  3084.22064898  3084.39389935\n",
      "  3084.62891611  3084.76324734  3084.92542925  3085.12791556  3085.23832787\n",
      "  3085.35881447  3085.42131519  3085.48571766  3085.51811477  3085.55095628\n",
      "  3085.56719066  3085.58370932  3085.60001492  3085.61626732  3085.63234219\n",
      "  3085.65134794  3085.67333791  3085.68847165  3085.70323245  3085.7169986\n",
      "  3085.72961023  3085.73561409  4358.22287109  4404.70738955  4431.32392814\n",
      "  4448.05624768  4459.36419966  4467.4071552   4473.26390357  4477.60669184\n",
      "  4480.91644186  4484.22936115  4487.50611056  4490.77194112  4494.01945265\n",
      "  4497.24254413  4500.43950165  4503.61047361  4506.73765692  4509.81117015\n",
      "  4512.85376121  4515.87763455  4518.89380524  4521.90967375  4524.91184837\n",
      "  4527.87762293  4530.77580822  4533.58197527  4536.37478673  4539.16315206\n",
      "  4541.9503553   4544.75685063  4547.54848335  4550.19836925  4552.76147812\n",
      "  4555.29495714  4557.82092541  4560.37213075  4562.91449401  4565.3025367\n",
      "  4567.60427186  4569.859211    4572.099235    4574.38259375  4576.55030511\n",
      "  4578.62618814  4580.64716433  4582.64146558  4584.64705967  4586.60901643\n",
      "  4588.54257266  4590.40609936  4592.2392423   4594.05854578  4595.86991891\n",
      "  4597.6126913   4599.31561641  4600.99101818  4602.64821878  4604.29772037\n",
      "  4605.89391053  4607.46773837  4609.01626209  4610.55036396  4612.07247175\n",
      "  4613.58530872  4615.03900019  4616.48658576  4617.91894147  4619.34256766\n",
      "  4620.75865296  4622.16721678  4623.53503605  4624.88909665  4626.22858731\n",
      "  4627.6140445   4628.99778487  4630.37258324  4631.74184419  4633.06622404\n",
      "  4634.38148533  4635.68417769  4636.97992245  4638.27082288  4639.55644741\n",
      "  4640.83804706  4642.10324595  4643.32917699  4644.54671579  4645.75524048\n",
      "  4646.95715137  4648.15482453  4649.34603513  4650.5319024   4651.71060124\n",
      "  4652.84098579  4653.95784798  4655.06139231  4656.15501318  4657.23972221\n",
      "  4658.3143868   4659.3787585   4660.4329911   4660.930482    4661.44935856\n",
      "  4661.95965156  4662.45411155  4662.93823612  4663.53075789  4664.26165545\n",
      "  4665.12052052  4666.08397479  4667.02025198  4667.93965403  4668.84321907\n",
      "  4669.73002388  4670.14484497  4670.57720567  4671.00078697  4671.40552934\n",
      "  4671.79852761  4672.26215963  4672.80470435  4673.43859128  4674.15753451\n",
      "  4674.84741718  4675.51444361  4676.15518539  4676.76877019  4677.05301756\n",
      "  4677.34218254  4677.62616857  4677.89980448  4678.14994681  4678.42897267\n",
      "  4678.73688724  4679.07331912  4679.42380931  4679.72764079  4679.98714827\n",
      "  4680.19731327  4680.35621623  4680.46086128  4680.50698775  4680.49394728\n",
      "  4680.41961189  4680.25601891  4680.01131367  4679.6958802   4679.31398874\n",
      "  4678.8661673   4678.3533774   4677.77728298  4677.13656125  4676.43236941\n",
      "  4675.66236763  4674.83027517  4673.93219706  4672.96924737  4671.94065945\n",
      "  4670.84747159  4669.69548176  4668.50577594  4667.89612351  4667.26564816\n",
      "  4666.6156478   4665.95077726  4665.27072067  4664.43728231  4663.41180726\n",
      "  4662.14292091  4660.65024614  4659.11862365  4657.5489501   4655.93603796\n",
      "  4654.27481522  4652.57433286  4650.82957438  4649.04489875  4647.23811549\n",
      "  4645.40577457  4643.56022952  4641.70307312  4639.83162226  4637.94792392\n",
      "  4635.58376258  4632.59272109  4628.75890378  4623.75336575  4617.10767671\n",
      "  4608.32428953  4599.25459012  4590.00961684  4580.61259558  4571.07045745\n",
      "  4561.36187142  4551.46382653  4541.42974845  4531.2371828   4520.83628951\n",
      "  4510.17821548  4499.30788768  4488.34511427  4476.82889037  4465.07813387\n",
      "  4452.87006889  4440.29516513  4427.49824749  4414.56331983  4401.6345598\n",
      "  4389.09853114  4376.90396731  4364.87044648  4352.97868382  4348.38849445\n",
      "  4343.53162525  4338.31994991  4332.69198215  4326.61212435  4318.51905741\n",
      "  4307.39547972  4296.36104763  4285.48779877  4274.72880788  4264.11423105\n",
      "  4253.64192609  4243.28224811  4233.10738217  4223.25979467  4213.62830724\n",
      "  4203.91228113  4194.045575    4184.14968734  4174.22894707  4164.26043758\n",
      "  4154.25403588  4144.24157221  4134.23391581  4124.22924924  4114.22186546\n",
      "  4104.1729196   4094.02693365  4083.80915091  4073.5063529   4063.15640787\n",
      "  4052.80681708  4042.46029495  4032.15829125  4021.9289845   4011.80777267\n",
      "  4001.84073351  3992.08721244  3982.62758933  3973.57704357  3965.07761554\n",
      "  3957.34426552  3950.75399521  3946.03327346  3944.44913863  3946.83847291\n",
      "  3951.92214768  3958.19520138  3965.1431918   3972.65444657  3980.36744431\n",
      "  3988.19631572  3995.87321876  4003.38126984  4010.67243322  4017.6582817\n",
      "  4024.36256463  4030.76501508  4036.9207196   4042.87473646  4048.66087179\n",
      "  4054.26892799  4059.68884146  4064.8838255   4069.8348887   4074.53591699\n",
      "  4078.9950704   4083.14812764  4087.04016253  4090.57900936  4093.8761069\n",
      "  4096.87414711  4099.51689391  4101.86153022  4103.80151963  4105.40068515\n",
      "  4106.536648    4107.22491152  4107.31016937  4106.84472463  4105.70751848\n",
      "  4103.96088605  4101.52041876  4098.32611047  4094.47923511  4089.95670247\n",
      "  4084.84080168  4079.21588778  4073.12649702  4066.60792771  4059.75343513\n",
      "  4052.58698604  4045.11712014  4037.40076019  4029.50441043  4021.4264073\n",
      "  4013.2804126   4004.92832414  3996.38744068  3987.7344524   3979.0956643\n",
      "  3970.41433743  3961.64519896  3952.79068971  3943.83303471  3934.79221041\n",
      "  3925.8258284   3916.88274199  3907.89926676  3898.87189162  3889.76805618\n",
      "  3880.62324211  3871.52453141  3862.55230019  3853.58761876  3844.56194632\n",
      "  3835.54034612  3826.45224811  3815.24722778  3801.66203218  3784.9750885\n",
      "  3763.81991159  3737.5030906   3703.36050324  3667.1925862   3631.07337868\n",
      "  3594.86748109  3558.081859    3520.86791577  3483.25685491  3444.90399317\n",
      "  3406.47579961  3368.14085608  3330.47685933  3293.66369667  3257.71310908\n",
      "  3222.23219766  3187.96816185  3152.74418223  3117.69100851  3083.72200929\n",
      "  3051.64895263  3022.13976611  2996.47375316  2975.29618543  2961.16462797\n",
      "  2955.06474373  2959.5202129   2975.85744472  3003.21597523  3040.18712493\n",
      "  3084.53374246  3135.8527796   3193.05951197  3258.24993644  3290.66210899\n",
      "  3327.84099908  3372.21759816  3427.71458923  3501.77625054  3633.35253129\n",
      "  3718.72480325  3673.66910104  3719.36228521  3773.08863906  3803.53921246\n",
      "  3836.96378772  3855.12694062  3874.42153943  3884.56808686  3894.81676254\n",
      "  3905.82465897  3917.20863297  3924.04270805  3931.16072682  3938.86082193\n",
      "  3942.84877594  3946.76647443  3951.18359916  3953.57489627  3955.95730197\n",
      "  3958.94859746  3960.5391938   3962.48700045  3964.29902321  3966.83225097\n",
      "  3968.81289837  3970.88144076  3972.29192977  3973.79137637  3974.77050046\n",
      "  3975.57806238  3976.12837671  3976.62682651  3977.16714377  3977.44909848\n",
      "  3977.74352952  3978.05144725  3978.37425177  3978.5751705   3978.78290178\n",
      "  3978.88878706  3978.99689694  3979.10716289  3979.21974542  3979.33446147]\n"
     ]
    }
   ],
   "source": [
    "print(Teff)"
   ]
  },
  {
   "cell_type": "code",
   "execution_count": null,
   "metadata": {
    "collapsed": true
   },
   "outputs": [],
   "source": []
  }
 ],
 "metadata": {
  "kernelspec": {
   "display_name": "Python 3",
   "language": "python",
   "name": "python3"
  },
  "language_info": {
   "codemirror_mode": {
    "name": "ipython",
    "version": 3
   },
   "file_extension": ".py",
   "mimetype": "text/x-python",
   "name": "python",
   "nbconvert_exporter": "python",
   "pygments_lexer": "ipython3",
   "version": "3.6.1"
  }
 },
 "nbformat": 4,
 "nbformat_minor": 2
}
