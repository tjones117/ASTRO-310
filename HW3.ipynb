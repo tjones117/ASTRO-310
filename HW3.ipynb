{
 "cells": [
  {
   "cell_type": "code",
   "execution_count": 1,
   "metadata": {
    "collapsed": true
   },
   "outputs": [],
   "source": [
    "%matplotlib inline\n",
    "\n",
    "import matplotlib.pyplot as plt\n",
    "import numpy as np\n",
    "from astro310Copy1 import *\n",
    "\n",
    "#plot_defaults()"
   ]
  },
  {
   "cell_type": "code",
   "execution_count": 2,
   "metadata": {},
   "outputs": [
    {
     "name": "stdout",
     "output_type": "stream",
     "text": [
      "Help on function read_history in module astro310Copy1:\n",
      "\n",
      "read_history(filename)\n",
      "    Read history data from an EZ-Web output zip file\n",
      "    \n",
      "    Parameters\n",
      "    ----------\n",
      "    \n",
      "    filename : string giving name of zip file\n",
      "    \n",
      "    Returns\n",
      "    -------\n",
      "    \n",
      "    data: dictionary containing the history data. The following keys/values \n",
      "          appear in the dictionary:\n",
      "    \n",
      "        i         step index (gives index of corresponding profile)\n",
      "        t         age (years)\n",
      "        M         mass (Msun)\n",
      "        log_L     log10(luminosity / Lsun)\n",
      "        log_R     lop10(radius / Rsun)\n",
      "        logT_s    log10(surface temperature / K)\n",
      "        log_T_c   log10(central temprature / K)\n",
      "        log_rho_c log10(central density / kg/m^3)\n",
      "        log_P_c   log10(central pressure / N/m^2)\n",
      "        Psi_c     central electron degeneracy parameter\n",
      "        X_c       central hydrogen mass fraction\n",
      "        Y_c       central helium mass fraction\n",
      "        X_Cc      central carbon mass fraction\n",
      "        X_Nc      central nitrogen mass fraction\n",
      "        X_Oc      central oxgyen mass fraction\n",
      "        tau_dyn   dynamical timescale (s)\n",
      "        tau_KH    Kelvin-Helmholtz timescale (years)\n",
      "        tau_nuc   nuclear timescale (years)\n",
      "        L_PP      luminosity from PP chain (Lsun)\n",
      "        L_CNO     luminosity from CNO cycle (Lsun)\n",
      "        L_3a      luminosity from triple-alpha reactions (Lsun)\n",
      "        L_Z       luminosity from metal burning (Lsun)\n",
      "        L_nu      luminosity from neutrino losses (Lsun)\n",
      "        M_He      mass of helium core (Msun)\n",
      "        M_C       mass of carbon core (Msun)\n",
      "        M_O       mass of oxygen core (Msun)\n",
      "        R_He      radius of helium core (Rsun)\n",
      "        R_C       radius of carbon core (Rsun)\n",
      "        R_O       radius of oxygen core (Rsun)\n",
      "\n"
     ]
    }
   ],
   "source": [
    "starH = read_history('ezweb_03058.zip')\n",
    "\n",
    "help(read_history)"
   ]
  },
  {
   "cell_type": "code",
   "execution_count": 3,
   "metadata": {},
   "outputs": [
    {
     "data": {
      "image/png": "[encoded data removed]",
      "text/plain": [
       "<matplotlib.figure.Figure at 0x220d65d9390>"
      ]
     },
     "metadata": {},
     "output_type": "display_data"
    }
   ],
   "source": [
    "x1 = np.linspace(5.75, 9, 100)\n",
    "x2 = np.linspace(9, 10, 100)\n",
    "x3 = np.linspace(7.5, 10, 100)\n",
    "y = []\n",
    "y[:] = [7.3 for x in x1]\n",
    "\n",
    "fig = plt.figure()\n",
    "ax = fig.add_subplot(111)\n",
    "\n",
    "Pc = 10**(starH['log_rho_c']) * 0.001 #unit conversion\n",
    "Pc2 = np.log10(Pc)\n",
    "\n",
    "plt.plot(starH['log_T_c'], Pc2) #blue\n",
    "plt.plot(x1, ((1.5*x1)-6.2)) #orange\n",
    "ax.annotate('I', xy=(8, 3), xycoords='data')\n",
    "plt.plot(x1, y) #green\n",
    "ax.annotate('II', xy=(6.5, 5), xycoords='data')\n",
    "plt.plot(x2, (3*x2)-19.7) #red\n",
    "ax.annotate('III', xy=(7.5, 9), xycoords='data')\n",
    "plt.plot(x3, (3*x3)-23.4) #purple\n",
    "ax.annotate('IV', xy=(9.5, 1), xycoords='data')\n",
    "plt.xlabel(r'log$T_c(K)$')\n",
    "plt.ylabel(r'log$\\rho_c(g/cm^{3})$')\n",
    "plt.show()"
   ]
  },
  {
   "cell_type": "markdown",
   "metadata": {
    "collapsed": true
   },
   "source": [
    "1) At the beginning of the EZ-Web calculations, the star is in section I of the graph which corresponds to ideal gas pressure being the dominant pressure given by the formula $P = RT\\rho/\\mu$."
   ]
  },
  {
   "cell_type": "markdown",
   "metadata": {
    "collapsed": true
   },
   "source": [
    "2) The end of the calculations also ends in section I of the graph, again corresponding to ideal gas pressure being the dominant pressure. "
   ]
  },
  {
   "cell_type": "markdown",
   "metadata": {},
   "source": [
    "3) The star does go into the helium burning phase through $3\\alpha$ reaction. The threshold for this burning can be seen on the graph as almost a vertical line on $x \\approx 8.3$. The calculations pass through this line in section I of the graph. There is no helium flash due to the mass of the star being greater than $2M_\\odot$. The flash would occur around the middle of its $3\\alpha$ luminosities, but is absent as seen in the graph below."
   ]
  },
  {
   "cell_type": "code",
   "execution_count": 4,
   "metadata": {},
   "outputs": [
    {
     "data": {
      "image/png": "[encoded data removed]",
      "text/plain": [
       "<matplotlib.figure.Figure at 0x220d6627780>"
      ]
     },
     "metadata": {},
     "output_type": "display_data"
    }
   ],
   "source": [
    "plt.plot(starH['L_3a'])\n",
    "plt.show()"
   ]
  },
  {
   "cell_type": "markdown",
   "metadata": {},
   "source": [
    "4) The star follows ideal gas behavior for all of the EZ-Web calculations. It follows a relatively straight line as given in the equation $log\\rho_c \\approx 3logT_c + C$. This can also be seen as the line stays within section I which is dominated by ideal gas pressure. "
   ]
  },
  {
   "cell_type": "markdown",
   "metadata": {},
   "source": [
    "5) This star is considered a massive star as it is above $8M\\odot$. This means that star will quickly run out of hydrogen fuel then later become a supermassive red giant. The star will begin to fuse to heavier elements, run out of fuel, and the pressures will become inadequite to balance the force of gravity and cause a supernova, resulting in a black hole or neutron star."
   ]
  },
  {
   "cell_type": "code",
   "execution_count": 5,
   "metadata": {},
   "outputs": [
    {
     "name": "stdout",
     "output_type": "stream",
     "text": [
      "Help on function read_history in module astro310Copy1:\n",
      "\n",
      "read_history(filename)\n",
      "    Read history data from an EZ-Web output zip file\n",
      "    \n",
      "    Parameters\n",
      "    ----------\n",
      "    \n",
      "    filename : string giving name of zip file\n",
      "    \n",
      "    Returns\n",
      "    -------\n",
      "    \n",
      "    data: dictionary containing the history data. The following keys/values \n",
      "          appear in the dictionary:\n",
      "    \n",
      "        i         step index (gives index of corresponding profile)\n",
      "        t         age (years)\n",
      "        M         mass (Msun)\n",
      "        log_L     log10(luminosity / Lsun)\n",
      "        log_R     lop10(radius / Rsun)\n",
      "        logT_s    log10(surface temperature / K)\n",
      "        log_T_c   log10(central temprature / K)\n",
      "        log_rho_c log10(central density / kg/m^3)\n",
      "        log_P_c   log10(central pressure / N/m^2)\n",
      "        Psi_c     central electron degeneracy parameter\n",
      "        X_c       central hydrogen mass fraction\n",
      "        Y_c       central helium mass fraction\n",
      "        X_Cc      central carbon mass fraction\n",
      "        X_Nc      central nitrogen mass fraction\n",
      "        X_Oc      central oxgyen mass fraction\n",
      "        tau_dyn   dynamical timescale (s)\n",
      "        tau_KH    Kelvin-Helmholtz timescale (years)\n",
      "        tau_nuc   nuclear timescale (years)\n",
      "        L_PP      luminosity from PP chain (Lsun)\n",
      "        L_CNO     luminosity from CNO cycle (Lsun)\n",
      "        L_3a      luminosity from triple-alpha reactions (Lsun)\n",
      "        L_Z       luminosity from metal burning (Lsun)\n",
      "        L_nu      luminosity from neutrino losses (Lsun)\n",
      "        M_He      mass of helium core (Msun)\n",
      "        M_C       mass of carbon core (Msun)\n",
      "        M_O       mass of oxygen core (Msun)\n",
      "        R_He      radius of helium core (Rsun)\n",
      "        R_C       radius of carbon core (Rsun)\n",
      "        R_O       radius of oxygen core (Rsun)\n",
      "\n"
     ]
    }
   ],
   "source": [
    "sunH = read_history('ezweb_sun.zip')\n",
    "\n",
    "help(read_history)"
   ]
  },
  {
   "cell_type": "code",
   "execution_count": 6,
   "metadata": {},
   "outputs": [
    {
     "data": {
      "image/png": "[encoded data removed]",
      "text/plain": [
       "<matplotlib.figure.Figure at 0x220d6df9ef0>"
      ]
     },
     "metadata": {},
     "output_type": "display_data"
    }
   ],
   "source": [
    "LSUN = 3.83E26\n",
    "RSUN = 6.96E8\n",
    "SIGMA = 5.67E-8\n",
    "\n",
    "L = 10**sunH['log_L']*LSUN\n",
    "R = 10**sunH['log_R']*RSUN\n",
    "Teff = (L/(4*np.pi*R**2*SIGMA))**0.25\n",
    "\n",
    "plt.plot(Teff, L/LSUN)\n",
    "plt.xscale('log')\n",
    "plt.yscale('log')\n",
    "plt.xlim(6e3, 2.9e3)\n",
    "plt.xlabel(r'Log$T_{eff}$')\n",
    "plt.ylabel(r'Log$L/L_{\\odot}$')\n",
    "plt.title('HR Diagram for sun')\n",
    "\n",
    "plt.plot(Teff[0], L[0]/LSUN, marker='o', markersize=10) #Beginning of main sequence, orange\n",
    "plt.plot(Teff[144], L[144]/LSUN, marker='o', markersize=10) #End of main sequence, green\n",
    "plt.plot(Teff[511], L[511]/LSUN, marker='o', markersize=10) #Tip of RGB, red\n",
    "plt.plot(Teff[613], L[613]/LSUN, marker='o', markersize=10) #Halfway through horizontal branch, purple\n",
    "plt.plot(Teff[891], L[891]/LSUN, marker='o', markersize=10) #Tip of AGB, brown\n",
    "\n",
    "plt.annotate('RGB', xy=(4200, 100), xytext=(4000, 10), arrowprops=dict(facecolor='black', shrink=0.05))\n",
    "plt.annotate('AGB', xy=(3000, 4500), xytext=(3500, 3000), arrowprops=dict(facecolor='black', shrink=0.05))\n",
    "\n",
    "\n",
    "plt.show()"
   ]
  },
  {
   "cell_type": "code",
   "execution_count": 7,
   "metadata": {},
   "outputs": [
    {
     "name": "stdout",
     "output_type": "stream",
     "text": [
      "0\n",
      "0.698287816\n"
     ]
    }
   ],
   "source": [
    "#This iterated through the mass fraction until the value became lower than 0.7, then printed its index \n",
    "X_c = sunH['X_c'] \n",
    "\n",
    "for i in range(930):\n",
    "    loopVariable = X_c[i]\n",
    "    if 0.7 < loopVariable:\n",
    "        index = i\n",
    "    else:\n",
    "        index = i\n",
    "        break\n",
    "        \n",
    "print(index)\n",
    "print(X_c[index])"
   ]
  },
  {
   "cell_type": "code",
   "execution_count": 8,
   "metadata": {},
   "outputs": [
    {
     "name": "stdout",
     "output_type": "stream",
     "text": [
      "144\n",
      "0.0\n"
     ]
    }
   ],
   "source": [
    "#This did the same as the last but for a value of 0\n",
    "for i in range(930):\n",
    "    loopVariable = X_c[i]\n",
    "    if 0 < loopVariable:\n",
    "        index = i\n",
    "    else:\n",
    "        index = i\n",
    "        break\n",
    "        \n",
    "print(index)\n",
    "print(X_c[index])"
   ]
  },
  {
   "cell_type": "code",
   "execution_count": 9,
   "metadata": {},
   "outputs": [
    {
     "name": "stdout",
     "output_type": "stream",
     "text": [
      "511\n",
      "77292.5364\n"
     ]
    }
   ],
   "source": [
    "#This looked for the helium flash\n",
    "L_3a = sunH['L_3a']\n",
    "\n",
    "mx = 0\n",
    "\n",
    "for i in range(0,600): #The cap was put on index before the end because the luminosity rises exponentially at the end, letting flash become the max\n",
    "    loopVariable = L_3a[i]\n",
    "    if mx < loopVariable:\n",
    "        index = i\n",
    "        mx = L_3a[i]\n",
    "        \n",
    "print(index)\n",
    "print(L_3a[index])"
   ]
  },
  {
   "cell_type": "code",
   "execution_count": 10,
   "metadata": {},
   "outputs": [
    {
     "name": "stdout",
     "output_type": "stream",
     "text": [
      "613\n",
      "0.496914789\n"
     ]
    }
   ],
   "source": [
    "#This was the same as the first two iterations\n",
    "Y_c = sunH['Y_c']\n",
    "\n",
    "for i in range(300,930): #this range because the value goes up in the first few steps, by starting in the middle it skips that\n",
    "    loopVariable = Y_c[i]\n",
    "    if 0.5 < loopVariable:\n",
    "        index = i\n",
    "    else:\n",
    "        index = i\n",
    "        break\n",
    "        \n",
    "print(index)\n",
    "print(Y_c[index])"
   ]
  },
  {
   "cell_type": "code",
   "execution_count": 11,
   "metadata": {},
   "outputs": [
    {
     "name": "stdout",
     "output_type": "stream",
     "text": [
      "891\n",
      "2.65268910677e+30\n"
     ]
    }
   ],
   "source": [
    "#This was the same iteration procedure as for the helium flash, but with no cap and for the general luminosity\n",
    "MX = 0\n",
    "\n",
    "for i in range(930):\n",
    "    loopVariable = L[i]\n",
    "    if MX < loopVariable:\n",
    "        index = i\n",
    "        MX = L[i]\n",
    "        \n",
    "print(index)\n",
    "print(L[index])"
   ]
  },
  {
   "cell_type": "code",
   "execution_count": null,
   "metadata": {
    "collapsed": true
   },
   "outputs": [],
   "source": []
  }
 ],
 "metadata": {
  "kernelspec": {
   "display_name": "Python 3",
   "language": "python",
   "name": "python3"
  },
  "language_info": {
   "codemirror_mode": {
    "name": "ipython",
    "version": 3
   },
   "file_extension": ".py",
   "mimetype": "text/x-python",
   "name": "python",
   "nbconvert_exporter": "python",
   "pygments_lexer": "ipython3",
   "version": "3.6.1"
  }
 },
 "nbformat": 4,
 "nbformat_minor": 2
}
