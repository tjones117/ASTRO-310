{
 "cells": [
  {
   "cell_type": "markdown",
   "metadata": {},
   "source": [
    "$\\bf{python}$ is a high level programming language. $\\bf{Indentation}$, $\\bf{capitalization}$, and $\\bf{decimals}$ matter.   \n",
    "\n",
    "$\\bf{jupyter\\ notebook}$ allows you to write and execute code in cells.  \n",
    "\n",
    "A $\\bf{cell}$ is a modular way to contain code. For formatted text, select Cell -> Cell Type -> Markdown.  \n",
    "\n",
    "To $\\bf{insert}$ a new cell below, click the $\\bf{+}$  button. "
   ]
  },
  {
   "cell_type": "markdown",
   "metadata": {},
   "source": [
    "To $\\bf{excute}$ a cell, click the 'play' button. Each cell can be executed individually. To run all cells select 'Cell -> Run All'. \n",
    "\n",
    "To $\\bf{delete}$ a cell, select the cell, click the 'scissors' button.  \n",
    "\n",
    "To $\\bf{interrupt}$ a cell, click the 'stop' button.  \n",
    "\n",
    "Typically, you will work on a computational problem in pieces, organizing related ideas into cells and moving forward once previous parts work correctly.\n",
    "\n",
    "$\\bf{Comments}$ should narrate your code, and begin with the # symbol. They should be simple but complete, so that when you look at your code again in the future, or you share your code with someone else, the comments will put your code in context.\n",
    "\n",
    "$\\bf{Packages}$ and $\\bf{modules}$ contain $\\bf{functions}$ that we can use. To use them we need to $\\bf{import}$ them. "
   ]
  },
  {
   "cell_type": "code",
   "execution_count": 30,
   "metadata": {},
   "outputs": [],
   "source": [
    "# Import packages\n",
    "# astro310 is a user-defined module (the file astr310.py and should be in the same directory as this notebook)\n",
    "\n",
    "import numpy as np\n",
    "import matplotlib.pyplot as plt\n",
    "%matplotlib inline\n",
    "from astro310 import *"
   ]
  },
  {
   "cell_type": "markdown",
   "metadata": {},
   "source": [
    "\n",
    "\n",
    "$\\bf{Variables}$ are dynamic in python - they can change type and value as you go. This can be convenient,   but it can also be a pitfall if you're not aware. A variable must start with a letter, it can't contain any illegal symbols or spaces, and it can't be one of the few words python reserves. In jupyter notebook, when you type a word that Python reserves, it will change color."
   ]
  },
  {
   "cell_type": "code",
   "execution_count": 2,
   "metadata": {},
   "outputs": [
    {
     "name": "stdout",
     "output_type": "stream",
     "text": [
      "<class 'int'>\n",
      "<class 'float'>\n"
     ]
    }
   ],
   "source": [
    "# Integers and floating decimals.\n",
    "# print() and type() are functions. \n",
    "\n",
    "# An integer\n",
    "\n",
    "x = 5\n",
    "print(type(x))\n",
    "\n",
    "# A floating decimal (float)\n",
    "\n",
    "x = 5.\n",
    "print(type(x))"
   ]
  },
  {
   "cell_type": "code",
   "execution_count": 3,
   "metadata": {},
   "outputs": [
    {
     "name": "stdout",
     "output_type": "stream",
     "text": [
      "5\n",
      "5.0\n",
      "5.0\n"
     ]
    }
   ],
   "source": [
    "# Addition with integers and floats\n",
    "# Math on mixed types will convert integers to float\n",
    "\n",
    "print(2+3)\n",
    "print(2.+3.)\n",
    "print(2.+3)"
   ]
  },
  {
   "cell_type": "code",
   "execution_count": 4,
   "metadata": {},
   "outputs": [
    {
     "name": "stdout",
     "output_type": "stream",
     "text": [
      "0.8333333333333334\n",
      "0\n"
     ]
    }
   ],
   "source": [
    "# Float (/) and integer (//) division\n",
    "\n",
    "print(5/6)\n",
    "print(5//6)"
   ]
  },
  {
   "cell_type": "code",
   "execution_count": 5,
   "metadata": {},
   "outputs": [
    {
     "name": "stdout",
     "output_type": "stream",
     "text": [
      "22026.4657948\n",
      "2.30258509299\n",
      "1.0\n",
      "nan\n"
     ]
    },
    {
     "name": "stderr",
     "output_type": "stream",
     "text": [
      "/Users/jacqueline/anaconda/lib/python3.5/site-packages/ipykernel/__main__.py:6: RuntimeWarning: invalid value encountered in sqrt\n"
     ]
    }
   ],
   "source": [
    "# Some math functions\n",
    "\n",
    "print(np.exp(10))\n",
    "print(np.log(10))\n",
    "print(np.log10(10))\n",
    "print(np.sqrt(-1)) # This should throw a nan"
   ]
  },
  {
   "cell_type": "code",
   "execution_count": 6,
   "metadata": {},
   "outputs": [
    {
     "name": "stdout",
     "output_type": "stream",
     "text": [
      "(-1+2j)\n",
      "<class 'complex'>\n",
      "1j\n"
     ]
    }
   ],
   "source": [
    "# Complex numbers - are created using the function complex(Real, Imaginary) that returns (R + Ij)\n",
    "\n",
    "print(complex(-1,2))\n",
    "print(type(complex(-1)))\n",
    "print(np.sqrt(complex(-1)))"
   ]
  },
  {
   "cell_type": "code",
   "execution_count": 7,
   "metadata": {},
   "outputs": [
    {
     "name": "stdout",
     "output_type": "stream",
     "text": [
      "[0, 1, 2.0, 3.0, 'four', 'five']\n",
      "<class 'list'>\n",
      "6\n"
     ]
    }
   ],
   "source": [
    "# Lists - are created using [ , ... , ] and can contain mixed types.\n",
    "# len() is a function that returns the length of the a list\n",
    "\n",
    "myList = [0, 1, 2., 3., 'four', 'five']\n",
    "print(myList)\n",
    "print(type(myList))\n",
    "print(len(myList))"
   ]
  },
  {
   "cell_type": "code",
   "execution_count": 8,
   "metadata": {},
   "outputs": [
    {
     "name": "stdout",
     "output_type": "stream",
     "text": [
      "0\n",
      "five\n",
      "four\n",
      "[0, 1, 2.0, 3.0, 'four', 'five']\n",
      "[0, 1, 2.0, 3.0]\n",
      "[1, 2.0, 3.0]\n",
      "[1, 2.0, 3.0, 'four', 'five']\n"
     ]
    }
   ],
   "source": [
    "# Lists with n elements will have indices 0 through n-1 accessed through list[index]\n",
    "\n",
    "print(myList[0])  # print the first element, or the 0th index\n",
    "print(myList[-1]) # print the last index\n",
    "print(myList[-2]) # print the second to last index\n",
    "print(myList[:])  # print all indices\n",
    "print(myList[:4]) # print all indices up to the 4th (exclusive)\n",
    "print(myList[1:4])# print all indices from the 1st (inclusive) up to the 4th (exclusive)\n",
    "print(myList[1:]) # print all indices from 1st (inclusive)"
   ]
  },
  {
   "cell_type": "code",
   "execution_count": 9,
   "metadata": {},
   "outputs": [
    {
     "name": "stdout",
     "output_type": "stream",
     "text": [
      "This is my string\n",
      "<class 'str'>\n",
      "17\n",
      "string\n"
     ]
    }
   ],
   "source": [
    "# Strings - like lists but contain only characters, created using ''\n",
    "\n",
    "myString = 'This is my string'\n",
    "print(myString)\n",
    "print(type(myString))\n",
    "print(len(myString))\n",
    "print(myString[-6:])"
   ]
  },
  {
   "cell_type": "code",
   "execution_count": 10,
   "metadata": {},
   "outputs": [
    {
     "name": "stdout",
     "output_type": "stream",
     "text": [
      "This is string2\n"
     ]
    }
   ],
   "source": [
    "# Strings can be appended together. \n",
    "# str() converts a number to a string\n",
    "\n",
    "stringNumber = 2\n",
    "anotherString = 'This is ' + 'string' + str(stringNumber)\n",
    "print(anotherString)"
   ]
  },
  {
   "cell_type": "code",
   "execution_count": 11,
   "metadata": {},
   "outputs": [
    {
     "name": "stdout",
     "output_type": "stream",
     "text": [
      "[0 1 2 3 4 5]\n",
      "<class 'numpy.ndarray'>\n",
      "<class 'numpy.int64'>\n",
      "(6,)\n",
      "<class 'tuple'>\n"
     ]
    }
   ],
   "source": [
    "# Arrays - like lists but contain only numbers and can be multi-dimensional\n",
    "# np.array() is a function that creates an array\n",
    "# shape() returns a tuple (rows,columns). There can be more with more dimensions.\n",
    "# A tuple is like a list but you can't change it.\n",
    "\n",
    "myArray = np.array((0, 1, 2, 3, 4, 5))\n",
    "print(myArray)\n",
    "print(type(myArray))\n",
    "print(type(myArray[0]))\n",
    "print(myArray.shape)\n",
    "print(type(myArray.shape))"
   ]
  },
  {
   "cell_type": "code",
   "execution_count": 12,
   "metadata": {},
   "outputs": [
    {
     "name": "stdout",
     "output_type": "stream",
     "text": [
      "[ 0.  1.  2.  3.  4.  5.]\n",
      "<class 'numpy.ndarray'>\n",
      "<class 'numpy.float64'>\n"
     ]
    }
   ],
   "source": [
    "# Arrays of mixed integers and floats will default to float\n",
    "\n",
    "myArray = np.array((0, 1, 2, 3, 4, 5.))\n",
    "print(myArray)\n",
    "print(type(myArray))\n",
    "print(type(myArray[0]))"
   ]
  },
  {
   "cell_type": "code",
   "execution_count": 13,
   "metadata": {},
   "outputs": [
    {
     "name": "stdout",
     "output_type": "stream",
     "text": [
      "[  0.   2.   4.   6.   8.  10.]\n"
     ]
    }
   ],
   "source": [
    "# Arrays - you can do math on each element of an array\n",
    "\n",
    "print(2*myArray)"
   ]
  },
  {
   "cell_type": "code",
   "execution_count": 14,
   "metadata": {},
   "outputs": [
    {
     "name": "stdout",
     "output_type": "stream",
     "text": [
      "{'height': 11, 'shape': 'rectangle', 'width': 8.5}\n",
      "<class 'dict'>\n",
      "A standard piece of paper is 8.5 x 11 inches\n",
      "dict_keys(['height', 'shape', 'width']) dict_values([11, 'rectangle', 8.5])\n"
     ]
    }
   ],
   "source": [
    "# Dictionaries - like lists but have named indices called keys, created with {'key':value}\n",
    "# Values accessed with dictionary['key']\n",
    "# dictionary.keys() and dictionary.values() are functions to access the keys and values\n",
    "\n",
    "paper = {'width': 8.5, 'height': 11, 'shape':'rectangle'}\n",
    "print(paper)\n",
    "print(type(paper))\n",
    "print('A standard piece of paper is', paper['width'], 'x' , paper['height'], 'inches')\n",
    "print(paper.keys(), paper.values())"
   ]
  },
  {
   "cell_type": "code",
   "execution_count": 15,
   "metadata": {},
   "outputs": [
    {
     "name": "stdout",
     "output_type": "stream",
     "text": [
      "0\n",
      "1\n",
      "2\n",
      "3\n",
      "4\n"
     ]
    }
   ],
   "source": [
    "# Loops - iterate\n",
    "\n",
    "for i in range(5):\n",
    "    print(i)"
   ]
  },
  {
   "cell_type": "code",
   "execution_count": 16,
   "metadata": {},
   "outputs": [
    {
     "name": "stdout",
     "output_type": "stream",
     "text": [
      "0 0\n",
      "1 1\n",
      "2 2.0\n",
      "3 3.0\n",
      "4 four\n",
      "5 five\n"
     ]
    }
   ],
   "source": [
    "# Loops - 'i' can represent the indices of a list or array (more common)\n",
    "\n",
    "for i in range(len(myList)):\n",
    "    print(i, myList[i])"
   ]
  },
  {
   "cell_type": "code",
   "execution_count": 17,
   "metadata": {},
   "outputs": [
    {
     "name": "stdout",
     "output_type": "stream",
     "text": [
      "height 11\n",
      "shape rectangle\n",
      "width 8.5\n"
     ]
    }
   ],
   "source": [
    "# Loops - to iterate through a dictionary\n",
    "\n",
    "for key, value in paper.items():\n",
    "    print(key, value)"
   ]
  },
  {
   "cell_type": "markdown",
   "metadata": {},
   "source": [
    "Now let's do some science! We'll be reading in and plotting data for a 1 solar mass star."
   ]
  },
  {
   "cell_type": "code",
   "execution_count": 18,
   "metadata": {
    "collapsed": true
   },
   "outputs": [],
   "source": [
    "# Define some physical constants in MKS units\n",
    "\n",
    "LSUN = 3.83E26\n",
    "RSUN = 6.96E8\n",
    "MSUN = 1.99E30\n",
    "SIGMA = 5.67E-8"
   ]
  },
  {
   "cell_type": "code",
   "execution_count": 19,
   "metadata": {},
   "outputs": [],
   "source": [
    "# Read history data - history files contain global properties of the star over time.\n",
    "# read_history() is a user defined function in the astro310 module\n",
    "# h is a dictionary that contains data you can access with keys\n",
    "\n",
    "h=read_history('ezweb-1-Msun.zip')"
   ]
  },
  {
   "cell_type": "code",
   "execution_count": 20,
   "metadata": {},
   "outputs": [
    {
     "name": "stdout",
     "output_type": "stream",
     "text": [
      "Help on function read_history in module astro310:\n",
      "\n",
      "read_history(filename)\n",
      "    Read history data from an EZ-Web output zip file\n",
      "    \n",
      "    Parameters\n",
      "    ----------\n",
      "    \n",
      "    filename : string giving name of zip file\n",
      "    \n",
      "    Returns\n",
      "    -------\n",
      "    \n",
      "    data: dictionary containing the history data. The following keys/values \n",
      "          appear in the dictionary:\n",
      "    \n",
      "        i         step index (gives index of corresponding profile)\n",
      "        t         age (years)\n",
      "        M         mass (Msun)\n",
      "        log_L     log10(luminosity / Lsun)\n",
      "        log_R     lop10(radius / Rsun)\n",
      "        logT_s    log10(surface temperature / K)\n",
      "        log_T_c   log10(central temprature / K)\n",
      "        log_rho_c log10(central density / kg/m^3)\n",
      "        log_P_c   log10(central pressure / N/m^2)\n",
      "        Psi_c     central electron degeneracy parameter\n",
      "        X_c       central hydrogen mass fraction\n",
      "        Y_c       central helium mass fraction\n",
      "        X_Cc      central carbon mass fraction\n",
      "        X_Nc      central nitrogen mass fraction\n",
      "        X_Oc      central oxgyen mass fraction\n",
      "        tau_dyn   dynamical timescale (s)\n",
      "        tau_KH    Kelvin-Helmholtz timescale (years)\n",
      "        tau_nuc   nuclear timescale (years)\n",
      "        L_PP      luminosity from PP chain (Lsun)\n",
      "        L_CNO     luminosity from CNO cycle (Lsun)\n",
      "        L_3a      luminosity from triple-alpha reactions (Lsun)\n",
      "        L_Z       luminosity from metal burning (Lsun)\n",
      "        L_nu      luminosity from neutrino losses (Lsun)\n",
      "        M_He      mass of helium core (Msun)\n",
      "        M_C       mass of carbon core (Msun)\n",
      "        M_O       mass of oxygen core (Msun)\n",
      "        R_He      radius of helium core (Rsun)\n",
      "        R_C       radius of carbon core (Rsun)\n",
      "        R_O       radius of oxygen core (Rsun)\n",
      "\n"
     ]
    }
   ],
   "source": [
    "# help() is a function that returns information about another function\n",
    "\n",
    "help(read_history)"
   ]
  },
  {
   "cell_type": "code",
   "execution_count": 21,
   "metadata": {},
   "outputs": [],
   "source": [
    "# Get luminosity, radius, and effective temperature arrays.\n",
    "# 10** exponentiates and LSUN and RSUN convert into MKS units.\n",
    "\n",
    "L = 10**h['log_L']*LSUN\n",
    "R = 10**h['log_R']*RSUN\n",
    "Teff = (L/(4*np.pi*R**2*SIGMA))**0.25"
   ]
  },
  {
   "cell_type": "code",
   "execution_count": 22,
   "metadata": {},
   "outputs": [
    {
     "name": "stdout",
     "output_type": "stream",
     "text": [
      "(array([ 65,  66,  67,  68,  69,  70,  71,  72,  73,  74,  75,  76,  77,\n",
      "        78,  79,  80,  81,  82,  83,  84,  85,  86,  87,  88,  89,  90,\n",
      "        91,  92,  93,  94,  95,  96,  97,  98,  99, 100, 101, 102, 103,\n",
      "       104, 105, 106, 107, 108, 109, 110, 111, 112, 113, 114, 115, 116,\n",
      "       117, 118, 119, 120, 121, 122, 123, 124, 125, 126, 127, 128, 129,\n",
      "       130, 131, 132, 133, 134, 135, 136, 137, 138, 139, 140, 141, 142,\n",
      "       143, 144, 145, 146, 147, 148, 149, 150, 151, 152, 153, 154, 155,\n",
      "       156, 157, 158, 159, 160, 161, 162, 163, 164, 165, 166, 167, 168,\n",
      "       169, 170, 171, 172, 173, 174, 175, 176, 177, 178, 179, 180, 181,\n",
      "       182, 183, 184, 185, 186, 187, 188, 189, 190, 191, 192, 193, 194,\n",
      "       195, 196, 197, 198, 199, 200, 201, 202, 203, 204, 205, 206, 207,\n",
      "       208, 209, 210, 211, 212, 213, 214, 215, 216, 217, 218, 219, 220,\n",
      "       221, 222, 223, 224, 225, 226, 227, 228, 229, 230, 231, 232, 233,\n",
      "       234, 235, 236, 237, 238, 239, 240, 241, 242, 243, 244, 245, 246,\n",
      "       247, 248, 249, 250, 251, 252, 253, 254, 255, 256, 257, 258, 259,\n",
      "       260, 261, 262, 263, 264, 265, 266, 267, 268, 269, 270, 271, 272,\n",
      "       273, 274, 275, 276, 277, 278, 279, 280, 281, 282, 283, 284, 285,\n",
      "       286, 287, 288, 289, 290, 291, 292, 293, 294, 295, 296, 297, 298,\n",
      "       299, 300, 301, 302, 303, 304, 305, 306, 307, 308, 309, 310, 311,\n",
      "       312, 313, 314, 315, 316, 317, 318, 319, 320, 321, 322, 323, 324,\n",
      "       325, 326, 327, 328, 329, 330, 331, 332, 333, 334, 335, 336, 337,\n",
      "       338, 339, 340, 341, 342, 343, 344, 345, 346, 347, 348, 349, 350,\n",
      "       351, 352, 353, 354, 355, 356, 357, 358, 359, 360, 361, 362, 363,\n",
      "       364, 365, 366, 367, 368, 369, 370, 371, 372, 373, 374, 375, 376,\n",
      "       377, 378, 379, 380, 381, 382, 383, 384, 385, 386, 387, 388, 389,\n",
      "       390, 391, 392, 393, 394, 395, 396, 397, 398, 399, 400, 401, 402,\n",
      "       403, 404, 405, 406, 407, 408, 409, 410, 411, 412, 413, 414, 415,\n",
      "       416, 417, 418, 419, 420, 421, 422, 423, 424, 425, 426, 427, 428,\n",
      "       429, 430, 431, 432, 433, 434, 435, 436, 437, 438, 439, 440, 441,\n",
      "       442, 443, 444, 445, 446, 447, 448, 449, 450, 451, 452, 453, 454,\n",
      "       455, 456, 457, 458, 459, 460, 461, 462, 463, 464, 465, 466, 467,\n",
      "       468, 469, 470, 471, 472, 473, 474, 475, 476, 477, 478, 479, 480,\n",
      "       481, 482, 483, 484, 485, 486, 487, 488, 489, 490, 491, 492, 493,\n",
      "       494, 495, 496, 497, 498, 499, 500, 501, 502, 503, 504, 505, 506,\n",
      "       507, 508, 509, 510, 511, 512, 513, 514, 515, 516, 517, 518, 519,\n",
      "       520, 521, 522, 523, 524, 525, 526, 527, 528, 529, 530, 531, 532,\n",
      "       533, 534, 535, 536, 537, 538, 539, 540, 541, 542, 543, 544, 545,\n",
      "       546, 547, 548, 549, 550, 551, 552, 553, 554, 555, 556, 557, 558,\n",
      "       559, 560, 561, 562, 563, 564, 565, 566, 567, 568, 569, 570, 571,\n",
      "       572, 573, 574, 575, 576, 577, 578, 579, 580, 581, 582, 583, 584,\n",
      "       585, 586, 587, 588, 589, 590, 591, 592, 593, 594, 595, 596, 597,\n",
      "       598, 599, 600, 601, 602, 603, 604, 605, 606, 607, 608, 609, 610,\n",
      "       611, 612, 613, 614, 615, 616, 617, 618, 619, 620, 621, 622, 623,\n",
      "       624, 625, 626, 627, 628, 629, 630, 631, 632, 633, 634, 635, 636,\n",
      "       637, 638, 639, 640, 641, 642, 643, 644, 645, 646, 647, 648, 649,\n",
      "       650, 651, 652, 653, 654, 655, 656, 657, 658, 659, 660, 661, 662,\n",
      "       663, 664, 665, 666, 667, 668, 669, 670, 671, 672, 673, 674, 675,\n",
      "       676, 677, 678, 679, 680, 681, 682, 683, 684, 685, 686, 687, 688,\n",
      "       689, 690, 691, 692, 693, 694, 695, 696, 697, 698, 699, 700, 701,\n",
      "       702, 703, 704, 705, 706, 707, 708, 709, 710, 711, 712, 713, 714,\n",
      "       715, 716, 717, 718, 719, 720, 721, 722, 723, 724, 725, 726, 727,\n",
      "       728, 729, 730, 731, 732, 733, 734, 735, 736, 737, 738, 739, 740,\n",
      "       741, 742, 743, 744, 745, 746, 747, 748, 749, 750, 751, 752, 753,\n",
      "       754, 755, 756, 757, 758, 759, 760, 761, 762, 763, 764, 765, 766,\n",
      "       767, 768, 769, 770, 771, 772, 773, 774, 775, 776, 777, 778, 779,\n",
      "       780, 781, 782, 783, 784, 785, 786, 787, 788, 789, 790, 791, 792,\n",
      "       793, 794, 795, 796, 797, 798, 799, 800, 801, 802, 803, 804, 805,\n",
      "       806, 807, 808, 809, 810, 811, 812, 813, 814, 815, 816, 817, 818,\n",
      "       819, 820, 821, 822, 823, 824, 825, 826, 827, 828, 829, 830, 831,\n",
      "       832, 833, 834, 835, 836, 837, 838, 839, 840, 841, 842, 843, 844,\n",
      "       845, 846, 847, 848, 849, 850, 851, 852, 853, 854, 855, 856, 857,\n",
      "       858, 859, 860, 861, 862, 863, 864, 865, 866, 867, 868, 869, 870,\n",
      "       871, 872, 873, 874, 875, 876, 877, 878, 879, 880, 881, 882, 883,\n",
      "       884, 885, 886, 887, 888, 889, 890, 891, 892, 893, 894, 895, 896,\n",
      "       897, 898, 899, 900, 901, 902, 903, 904, 905, 906, 907, 908, 909,\n",
      "       910, 911, 912, 913, 914, 915, 916, 917, 918, 919, 920, 921, 922,\n",
      "       923, 924, 925, 926, 927, 928, 929]),)\n"
     ]
    }
   ],
   "source": [
    "# Where in these arrays are the values of the Sun today? Where is the first index where log_L > 0?\n",
    "# np.where() is a function that returns a tuple of the indices where the conditional is true.\n",
    "# np.where()[0] extracts the first array from the tuple\n",
    "# np.where()[0][0] extracts the first element of the array\n",
    "\n",
    "L_index = np.where(h['log_L'] > 0)\n",
    "print(L_index)\n",
    "\n",
    "today = np.where(h['log_L'] > 0)[0][0]"
   ]
  },
  {
   "cell_type": "code",
   "execution_count": 23,
   "metadata": {},
   "outputs": [
    {
     "data": {
      "image/png": "[encoded data removed]",
      "text/plain": [
       "<matplotlib.figure.Figure at 0x10cef88d0>"
      ]
     },
     "metadata": {},
     "output_type": "display_data"
    }
   ],
   "source": [
    "# Plot luminosity as a function of effective temperature on an HR diagram\n",
    "# plot_defaults() is a function in module astro310.\n",
    "# Use help() to learn more\n",
    "\n",
    "plot_defaults()\n",
    "plt.plot(Teff, L/LSUN)\n",
    "plt.plot(Teff[today], L[today]/LSUN, marker='o', markersize=10)\n",
    "plt.yscale('log')\n",
    "plt.xlim(7000,2000)\n",
    "plt.ylim(0.1,1e4)\n",
    "plt.xlabel('Teff (K)')\n",
    "plt.ylabel(r'$L/L_{\\odot}$')\n",
    "plt.title(r'HR Diagram for a 1 $M_{\\odot}$ star')\n",
    "plt.savefig('HR_1Msun.pdf')"
   ]
  },
  {
   "cell_type": "code",
   "execution_count": 24,
   "metadata": {},
   "outputs": [],
   "source": [
    "# Read profile data for the star - profiles files contain properties of the star as a function of radius at each time step.\n",
    "# Here we are choosing the profile that has solar values using the index 'today'\n",
    "\n",
    "p = read_profile('ezweb-1-Msun.zip', today)"
   ]
  },
  {
   "cell_type": "code",
   "execution_count": 25,
   "metadata": {},
   "outputs": [
    {
     "name": "stdout",
     "output_type": "stream",
     "text": [
      "Help on function read_profile in module astro310:\n",
      "\n",
      "read_profile(filename, index)\n",
      "    Read profile data from an EZ-Web output zip file\n",
      "    \n",
      "    Parameters\n",
      "    ----------\n",
      "    \n",
      "    filename : string giving name of zip file\n",
      "    index    : integer step index\n",
      "    \n",
      "    Returns\n",
      "    -------\n",
      "    \n",
      "    data: dictionary containing the profile data. The following keys/values \n",
      "          appear in the dictionary:\n",
      "    \n",
      "        m         mass coordinate (Msun)\n",
      "        r         radius coordinate (Rsun)\n",
      "        F         interior luminosity (Lsun)\n",
      "        P         pressure (N/m^2)\n",
      "        rho       density (kg/m^3)\n",
      "        T         temperature (K)\n",
      "        u         specific internal energy (J/kg)\n",
      "        s         specific entropy (J/K/kg)\n",
      "        c_P       specific heat at constant pressure (J/K/kg)\n",
      "        gamma_ad  adiabatic exponent\n",
      "        nabla_ad  adiabatic temperature gradient\n",
      "        mu        mean molecular weight\n",
      "        n_e       electron number density (/m^3)\n",
      "        P_e       electron partial pressure (N/m^2)\n",
      "        P_rad     radiation partial pressure (N/m^2)\n",
      "        nabla_rad radiative temperature gradient\n",
      "        nabla     material temperature gradient\n",
      "        v_c       convective velocity (m/s)\n",
      "        kappa     Rosseland mean opacity (m^2/kg)\n",
      "        q_nuc     specific nuclear energy release rate (J/s/kg)\n",
      "        q_PP      specific nuclear energy release rate from PP chain (J/s/kg)\n",
      "        q_CNO     specific nuclear energy release rate from CNO cycle (J/s/kg)\n",
      "        q_3a      specific nuclear energy release rate from triple-alpha reactions (J/s/kg)\n",
      "        q_nunuc   specific nuclear neutrino energy loss rate (J/s/kg)\n",
      "        q_nu      specific non-nuclear neutrino energy loss rate (J/s/kg)\n",
      "        q_grav    specific energy release rate from gravitational contraction (J/s/kg)\n",
      "        X         hydrogen mass fraction (all ionization stages)\n",
      "        X_mol     molecular hydrogen mass fraction\n",
      "        X_+       singly-ionized hydrogen mass fraction\n",
      "        Y         helium mass fraction (all ionization stages)\n",
      "        Y_+       singly-ionized helium mass fraction\n",
      "        Y_++      doubly-ionized helium mass fraction\n",
      "        X_C       carbon mass fraction\n",
      "        X_N       nitrogen mass fraction\n",
      "        X_O       oxygen mass fraction\n",
      "        Psi       electron degeneracy parameter\n",
      "\n"
     ]
    }
   ],
   "source": [
    "# Use help() to learn more\n",
    "\n",
    "help(read_profile)"
   ]
  },
  {
   "cell_type": "code",
   "execution_count": 26,
   "metadata": {},
   "outputs": [
    {
     "data": {
      "image/png": "[encoded data removed]",
      "text/plain": [
       "<matplotlib.figure.Figure at 0x110db4940>"
      ]
     },
     "metadata": {},
     "output_type": "display_data"
    }
   ],
   "source": [
    "# Plot the mass as a function of radius\n",
    "\n",
    "plot_defaults()\n",
    "plt.plot(p['r'],p['m'])\n",
    "plt.xlabel(r'$r/R_{\\odot}$')\n",
    "plt.ylabel(r'$m/M_{\\odot}$')\n",
    "plt.title('Mass vs Radius for the Sun')\n",
    "plt.savefig('mass_radius_sun.pdf')"
   ]
  }
 ],
 "metadata": {
  "anaconda-cloud": {},
  "kernelspec": {
   "display_name": "Python 3",
   "language": "python",
   "name": "python3"
  },
  "language_info": {
   "codemirror_mode": {
    "name": "ipython",
    "version": 3
   },
   "file_extension": ".py",
   "mimetype": "text/x-python",
   "name": "python",
   "nbconvert_exporter": "python",
   "pygments_lexer": "ipython3",
   "version": "3.6.1"
  }
 },
 "nbformat": 4,
 "nbformat_minor": 1
}
